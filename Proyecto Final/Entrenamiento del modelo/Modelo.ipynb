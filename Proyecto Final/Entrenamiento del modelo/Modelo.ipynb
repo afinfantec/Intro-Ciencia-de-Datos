{
 "cells": [
  {
   "cell_type": "markdown",
   "metadata": {},
   "source": [
    "## Importar las librerias para análisis de data"
   ]
  },
  {
   "cell_type": "code",
   "execution_count": 1,
   "metadata": {},
   "outputs": [],
   "source": [
    "import numpy as np                                    ## sirve para manipular arrays, calcular media y desviacion estandar\n",
    "import pandas as pd                                   ## sirve para manipular dataframes\n",
    "import xgboost as xgb                                 ## Libreria para utilizar el modelo xgboost\n",
    "from sklearn.impute import SimpleImputer              ## Sirve para imputar los valores\n",
    "from sklearn.pipeline import Pipeline                 ## \n",
    "from sklearn.preprocessing import OneHotEncoder       ## Sirve para codificar los valores de las variables categoricas\n",
    "from sklearn.preprocessing import StandardScaler      ## Sirve para el estandarizar variables numericas\n",
    "from sklearn.compose import ColumnTransformer\n",
    "from sklearn.model_selection import train_test_split  ## Sirve para dividir el los datos entre train y test\n",
    "from sklearn.model_selection import GridSearchCV      ## mejora de los parametros de xgboost\n",
    "from sklearn.metrics import accuracy_score            ## Sirve para utilizar la metrica de accuracy\n",
    "from sklearn.metrics import classification_report     ## Sirve para las metricas de precision, recall, f1 score\n",
    "from sklearn.metrics import confusion_matrix          ## Sirve para crear una matriz de confusion\n",
    "from sklearn.metrics import plot_confusion_matrix      ## Dibuja la matriz de confusion\n",
    "from sklearn.metrics import balanced_accuracy_score, roc_auc_score, make_scorer ## metricas para medir el desempeño"
   ]
  },
  {
   "cell_type": "markdown",
   "metadata": {},
   "source": [
    "## Carga, cleaning y preprocesamiento del dataset"
   ]
  },
  {
   "cell_type": "code",
   "execution_count": 2,
   "metadata": {},
   "outputs": [],
   "source": [
    "## Cargar el dataset del archivo CSV a un dataframe\n",
    "\n",
    "insurance_claims = pd.read_csv('Dataset/insurance_claims.csv')"
   ]
  },
  {
   "cell_type": "code",
   "execution_count": 3,
   "metadata": {},
   "outputs": [
    {
     "data": {
      "text/html": [
       "<div>\n",
       "<style scoped>\n",
       "    .dataframe tbody tr th:only-of-type {\n",
       "        vertical-align: middle;\n",
       "    }\n",
       "\n",
       "    .dataframe tbody tr th {\n",
       "        vertical-align: top;\n",
       "    }\n",
       "\n",
       "    .dataframe thead th {\n",
       "        text-align: right;\n",
       "    }\n",
       "</style>\n",
       "<table border=\"1\" class=\"dataframe\">\n",
       "  <thead>\n",
       "    <tr style=\"text-align: right;\">\n",
       "      <th></th>\n",
       "      <th>months_as_customer</th>\n",
       "      <th>age</th>\n",
       "      <th>policy_number</th>\n",
       "      <th>policy_bind_date</th>\n",
       "      <th>policy_state</th>\n",
       "      <th>policy_csl</th>\n",
       "      <th>policy_deductable</th>\n",
       "      <th>policy_annual_premium</th>\n",
       "      <th>umbrella_limit</th>\n",
       "      <th>insured_zip</th>\n",
       "      <th>...</th>\n",
       "      <th>witnesses</th>\n",
       "      <th>police_report_available</th>\n",
       "      <th>total_claim_amount</th>\n",
       "      <th>injury_claim</th>\n",
       "      <th>property_claim</th>\n",
       "      <th>vehicle_claim</th>\n",
       "      <th>auto_make</th>\n",
       "      <th>auto_model</th>\n",
       "      <th>auto_year</th>\n",
       "      <th>fraud_reported</th>\n",
       "    </tr>\n",
       "  </thead>\n",
       "  <tbody>\n",
       "    <tr>\n",
       "      <th>0</th>\n",
       "      <td>328</td>\n",
       "      <td>48</td>\n",
       "      <td>521585</td>\n",
       "      <td>10/17/2014</td>\n",
       "      <td>OH</td>\n",
       "      <td>250/500</td>\n",
       "      <td>1000</td>\n",
       "      <td>1406.91</td>\n",
       "      <td>0</td>\n",
       "      <td>466132</td>\n",
       "      <td>...</td>\n",
       "      <td>2</td>\n",
       "      <td>YES</td>\n",
       "      <td>71610</td>\n",
       "      <td>6510</td>\n",
       "      <td>13020</td>\n",
       "      <td>52080</td>\n",
       "      <td>Saab</td>\n",
       "      <td>92x</td>\n",
       "      <td>2004</td>\n",
       "      <td>Y</td>\n",
       "    </tr>\n",
       "    <tr>\n",
       "      <th>1</th>\n",
       "      <td>228</td>\n",
       "      <td>42</td>\n",
       "      <td>342868</td>\n",
       "      <td>6/27/2006</td>\n",
       "      <td>IN</td>\n",
       "      <td>250/500</td>\n",
       "      <td>2000</td>\n",
       "      <td>1197.22</td>\n",
       "      <td>5000000</td>\n",
       "      <td>468176</td>\n",
       "      <td>...</td>\n",
       "      <td>0</td>\n",
       "      <td>?</td>\n",
       "      <td>5070</td>\n",
       "      <td>780</td>\n",
       "      <td>780</td>\n",
       "      <td>3510</td>\n",
       "      <td>Mercedes</td>\n",
       "      <td>E400</td>\n",
       "      <td>2007</td>\n",
       "      <td>Y</td>\n",
       "    </tr>\n",
       "    <tr>\n",
       "      <th>2</th>\n",
       "      <td>134</td>\n",
       "      <td>29</td>\n",
       "      <td>687698</td>\n",
       "      <td>9/6/2000</td>\n",
       "      <td>OH</td>\n",
       "      <td>100/300</td>\n",
       "      <td>2000</td>\n",
       "      <td>1413.14</td>\n",
       "      <td>5000000</td>\n",
       "      <td>430632</td>\n",
       "      <td>...</td>\n",
       "      <td>3</td>\n",
       "      <td>NO</td>\n",
       "      <td>34650</td>\n",
       "      <td>7700</td>\n",
       "      <td>3850</td>\n",
       "      <td>23100</td>\n",
       "      <td>Dodge</td>\n",
       "      <td>RAM</td>\n",
       "      <td>2007</td>\n",
       "      <td>N</td>\n",
       "    </tr>\n",
       "    <tr>\n",
       "      <th>3</th>\n",
       "      <td>256</td>\n",
       "      <td>41</td>\n",
       "      <td>227811</td>\n",
       "      <td>5/25/1990</td>\n",
       "      <td>IL</td>\n",
       "      <td>250/500</td>\n",
       "      <td>2000</td>\n",
       "      <td>1415.74</td>\n",
       "      <td>6000000</td>\n",
       "      <td>608117</td>\n",
       "      <td>...</td>\n",
       "      <td>2</td>\n",
       "      <td>NO</td>\n",
       "      <td>63400</td>\n",
       "      <td>6340</td>\n",
       "      <td>6340</td>\n",
       "      <td>50720</td>\n",
       "      <td>Chevrolet</td>\n",
       "      <td>Tahoe</td>\n",
       "      <td>2014</td>\n",
       "      <td>Y</td>\n",
       "    </tr>\n",
       "    <tr>\n",
       "      <th>4</th>\n",
       "      <td>228</td>\n",
       "      <td>44</td>\n",
       "      <td>367455</td>\n",
       "      <td>6/6/2014</td>\n",
       "      <td>IL</td>\n",
       "      <td>500/1000</td>\n",
       "      <td>1000</td>\n",
       "      <td>1583.91</td>\n",
       "      <td>6000000</td>\n",
       "      <td>610706</td>\n",
       "      <td>...</td>\n",
       "      <td>1</td>\n",
       "      <td>NO</td>\n",
       "      <td>6500</td>\n",
       "      <td>1300</td>\n",
       "      <td>650</td>\n",
       "      <td>4550</td>\n",
       "      <td>Accura</td>\n",
       "      <td>RSX</td>\n",
       "      <td>2009</td>\n",
       "      <td>N</td>\n",
       "    </tr>\n",
       "  </tbody>\n",
       "</table>\n",
       "<p>5 rows × 39 columns</p>\n",
       "</div>"
      ],
      "text/plain": [
       "   months_as_customer  age  policy_number policy_bind_date policy_state  \\\n",
       "0                 328   48         521585       10/17/2014           OH   \n",
       "1                 228   42         342868        6/27/2006           IN   \n",
       "2                 134   29         687698         9/6/2000           OH   \n",
       "3                 256   41         227811        5/25/1990           IL   \n",
       "4                 228   44         367455         6/6/2014           IL   \n",
       "\n",
       "  policy_csl  policy_deductable  policy_annual_premium  umbrella_limit  \\\n",
       "0    250/500               1000                1406.91               0   \n",
       "1    250/500               2000                1197.22         5000000   \n",
       "2    100/300               2000                1413.14         5000000   \n",
       "3    250/500               2000                1415.74         6000000   \n",
       "4   500/1000               1000                1583.91         6000000   \n",
       "\n",
       "   insured_zip  ... witnesses police_report_available total_claim_amount  \\\n",
       "0       466132  ...         2                     YES              71610   \n",
       "1       468176  ...         0                       ?               5070   \n",
       "2       430632  ...         3                      NO              34650   \n",
       "3       608117  ...         2                      NO              63400   \n",
       "4       610706  ...         1                      NO               6500   \n",
       "\n",
       "  injury_claim property_claim  vehicle_claim  auto_make auto_model auto_year  \\\n",
       "0         6510          13020          52080       Saab        92x      2004   \n",
       "1          780            780           3510   Mercedes       E400      2007   \n",
       "2         7700           3850          23100      Dodge        RAM      2007   \n",
       "3         6340           6340          50720  Chevrolet      Tahoe      2014   \n",
       "4         1300            650           4550     Accura        RSX      2009   \n",
       "\n",
       "  fraud_reported  \n",
       "0              Y  \n",
       "1              Y  \n",
       "2              N  \n",
       "3              Y  \n",
       "4              N  \n",
       "\n",
       "[5 rows x 39 columns]"
      ]
     },
     "execution_count": 3,
     "metadata": {},
     "output_type": "execute_result"
    }
   ],
   "source": [
    "## Mostrar la cabecera del dataframe para comprobar si cargó correctamente la informacion\n",
    "\n",
    "insurance_claims.head()"
   ]
  },
  {
   "cell_type": "code",
   "execution_count": 4,
   "metadata": {},
   "outputs": [],
   "source": [
    "## Se eliminan las variables insured_zip, policy_number, incident_date, incident_location, auto_model dado que no aportan informacion relevante al proposito del proyecto\n",
    "\n",
    "insurance_claims = insurance_claims.drop(['insured_zip', 'policy_number', 'incident_date', 'incident_location', 'auto_model', 'policy_bind_date', 'capital-gains', 'capital-loss', 'policy_csl'], axis = 1)"
   ]
  },
  {
   "cell_type": "code",
   "execution_count": 5,
   "metadata": {},
   "outputs": [
    {
     "data": {
      "text/plain": [
       "(1000, 30)"
      ]
     },
     "execution_count": 5,
     "metadata": {},
     "output_type": "execute_result"
    }
   ],
   "source": [
    "## Revisar el tamaño del dataset\n",
    "\n",
    "insurance_claims.shape"
   ]
  },
  {
   "cell_type": "code",
   "execution_count": 6,
   "metadata": {},
   "outputs": [],
   "source": [
    "## Reemplazar los espacios que tienen algunos valores dentro de las variables insured_education_level, incident_type, collision_type, incident_severity\n",
    "\n",
    "insurance_claims.replace(' ', '_', regex = True, inplace = True)\n",
    "\n",
    "## Reemplazar las - que tienen algunos valores dentro de las variables insured_occupation, insured_hobbies, insured_relationship, incident_type\n",
    "\n",
    "insurance_claims.replace('-', '_', regex = True, inplace = True)\n",
    "\n",
    "## Reemplazar los - de los titulos de las variables capital-gains, capital-loss\n",
    "\n",
    "insurance_claims.columns = insurance_claims.columns.str.replace('-', '_')\n",
    "\n",
    "## Reemplazar los valores ? que tienen algunos valores dentro de las variables property_damage, police_report_available\n",
    "\n",
    "insurance_claims['property_damage'] = insurance_claims['property_damage'].replace({'?': np.nan})\n",
    "insurance_claims['police_report_available'] = insurance_claims['police_report_available'].replace({'?': np.nan})\n",
    "insurance_claims['collision_type'] = insurance_claims['collision_type'].replace({'?': np.nan})"
   ]
  },
  {
   "cell_type": "code",
   "execution_count": 7,
   "metadata": {},
   "outputs": [],
   "source": [
    "## Reemplazar los valores de la variable respuesta por 0 y 1\n",
    "\n",
    "insurance_claims['fraud_reported'].replace('Y', '1', regex = True, inplace = True)\n",
    "insurance_claims['fraud_reported'].replace('N', '0', regex = True, inplace = True)"
   ]
  },
  {
   "cell_type": "code",
   "execution_count": 8,
   "metadata": {},
   "outputs": [
    {
     "name": "stdout",
     "output_type": "stream",
     "text": [
      "<class 'pandas.core.frame.DataFrame'>\n",
      "RangeIndex: 1000 entries, 0 to 999\n",
      "Data columns (total 30 columns):\n",
      " #   Column                       Non-Null Count  Dtype  \n",
      "---  ------                       --------------  -----  \n",
      " 0   months_as_customer           1000 non-null   int64  \n",
      " 1   age                          1000 non-null   int64  \n",
      " 2   policy_state                 1000 non-null   object \n",
      " 3   policy_deductable            1000 non-null   int64  \n",
      " 4   policy_annual_premium        1000 non-null   float64\n",
      " 5   umbrella_limit               1000 non-null   int64  \n",
      " 6   insured_sex                  1000 non-null   object \n",
      " 7   insured_education_level      1000 non-null   object \n",
      " 8   insured_occupation           1000 non-null   object \n",
      " 9   insured_hobbies              1000 non-null   object \n",
      " 10  insured_relationship         1000 non-null   object \n",
      " 11  incident_type                1000 non-null   object \n",
      " 12  collision_type               822 non-null    object \n",
      " 13  incident_severity            1000 non-null   object \n",
      " 14  authorities_contacted        1000 non-null   object \n",
      " 15  incident_state               1000 non-null   object \n",
      " 16  incident_city                1000 non-null   object \n",
      " 17  incident_hour_of_the_day     1000 non-null   int64  \n",
      " 18  number_of_vehicles_involved  1000 non-null   int64  \n",
      " 19  property_damage              640 non-null    object \n",
      " 20  bodily_injuries              1000 non-null   int64  \n",
      " 21  witnesses                    1000 non-null   int64  \n",
      " 22  police_report_available      657 non-null    object \n",
      " 23  total_claim_amount           1000 non-null   int64  \n",
      " 24  injury_claim                 1000 non-null   int64  \n",
      " 25  property_claim               1000 non-null   int64  \n",
      " 26  vehicle_claim                1000 non-null   int64  \n",
      " 27  auto_make                    1000 non-null   object \n",
      " 28  auto_year                    1000 non-null   int64  \n",
      " 29  fraud_reported               1000 non-null   object \n",
      "dtypes: float64(1), int64(13), object(16)\n",
      "memory usage: 234.5+ KB\n"
     ]
    }
   ],
   "source": [
    "## Obtener el tipo de dato de cada variable y la totalidad de las entradas\n",
    "\n",
    "insurance_claims.info()"
   ]
  },
  {
   "cell_type": "code",
   "execution_count": 9,
   "metadata": {},
   "outputs": [
    {
     "data": {
      "text/plain": [
       "months_as_customer               0\n",
       "age                              0\n",
       "policy_state                     0\n",
       "policy_deductable                0\n",
       "policy_annual_premium            0\n",
       "umbrella_limit                   0\n",
       "insured_sex                      0\n",
       "insured_education_level          0\n",
       "insured_occupation               0\n",
       "insured_hobbies                  0\n",
       "insured_relationship             0\n",
       "incident_type                    0\n",
       "collision_type                 178\n",
       "incident_severity                0\n",
       "authorities_contacted            0\n",
       "incident_state                   0\n",
       "incident_city                    0\n",
       "incident_hour_of_the_day         0\n",
       "number_of_vehicles_involved      0\n",
       "property_damage                360\n",
       "bodily_injuries                  0\n",
       "witnesses                        0\n",
       "police_report_available        343\n",
       "total_claim_amount               0\n",
       "injury_claim                     0\n",
       "property_claim                   0\n",
       "vehicle_claim                    0\n",
       "auto_make                        0\n",
       "auto_year                        0\n",
       "fraud_reported                   0\n",
       "dtype: int64"
      ]
     },
     "execution_count": 9,
     "metadata": {},
     "output_type": "execute_result"
    }
   ],
   "source": [
    "## revisar si existen datos faltantes dentro del dataframe\n",
    "\n",
    "insurance_claims.isnull().sum()"
   ]
  },
  {
   "cell_type": "code",
   "execution_count": 10,
   "metadata": {},
   "outputs": [],
   "source": [
    "## Dividir el dataset entre features (X) y target (Y)\n",
    "\n",
    "x = insurance_claims.drop(\"fraud_reported\", axis = 1)\n",
    "y = insurance_claims.fraud_reported"
   ]
  },
  {
   "cell_type": "code",
   "execution_count": 11,
   "metadata": {},
   "outputs": [
    {
     "name": "stdout",
     "output_type": "stream",
     "text": [
      "Index(['policy_state', 'insured_sex', 'insured_education_level',\n",
      "       'insured_occupation', 'insured_hobbies', 'insured_relationship',\n",
      "       'incident_type', 'collision_type', 'incident_severity',\n",
      "       'authorities_contacted', 'incident_state', 'incident_city',\n",
      "       'property_damage', 'police_report_available', 'auto_make'],\n",
      "      dtype='object')\n",
      "Index(['months_as_customer', 'age', 'policy_deductable',\n",
      "       'policy_annual_premium', 'umbrella_limit', 'incident_hour_of_the_day',\n",
      "       'number_of_vehicles_involved', 'bodily_injuries', 'witnesses',\n",
      "       'total_claim_amount', 'injury_claim', 'property_claim', 'vehicle_claim',\n",
      "       'auto_year'],\n",
      "      dtype='object')\n"
     ]
    }
   ],
   "source": [
    "## Dividir features (X) entre variables categoricas y cuantitativas para su uso en el modelo\n",
    "\n",
    "#cat_cols = x.loc[:,[policy_state, policy_csl, insured_sex, insured_education_level, insured_occupation, insured_hobbies, insured_relationship, incident_type, collision_type, incident_severity, authorities_contacted, incident_state, incident_city, property_damage, police_report_available, auto_make]]\n",
    "#num_cols = x.loc[:,[months_as_customer, age, policy_deductable, policy_annual_premium, umbrella_limit, capital-gains, capital-loss, incident_hour_of_the_day, number_of_vehicles_involved, bodily_injuries, witnesses, total_claim_amount, injury_claim, property_claim, vehicle_claim, auto_year]]\n",
    "\n",
    "cat_cols = x.select_dtypes(exclude=\"number\").columns\n",
    "num_cols = x.select_dtypes(include=\"number\").columns\n",
    "\n",
    "print(cat_cols)\n",
    "print(num_cols)"
   ]
  },
  {
   "cell_type": "code",
   "execution_count": 12,
   "metadata": {},
   "outputs": [],
   "source": [
    "## Codigo para codificar las variables categoricas e imputar valores faltantes mediante la tecnica del valor mas frecuente para esa variable, a pesar de que no hayan valores faltantes, se dejara este codigo como referencia para un futuro\n",
    "\n",
    "# Construccion del pipeline\n",
    "categorical_pipeline = Pipeline(\n",
    "     steps = [\n",
    "         (\"impute\", SimpleImputer(strategy = \"most_frequent\")),\n",
    "         (\"oh-encode\", OneHotEncoder(handle_unknown = \"ignore\", sparse = False))\n",
    "             ]\n",
    ")"
   ]
  },
  {
   "cell_type": "code",
   "execution_count": 13,
   "metadata": {},
   "outputs": [],
   "source": [
    "## Codigo para estandarizar las variables numericas e imputar valores faltantes mediante el uso de la media\n",
    "\n",
    "# Construccion del pipeline\n",
    "numeric_pipeline = Pipeline(\n",
    "    steps = [(\"impute\", SimpleImputer(strategy = \"mean\")),\n",
    "             (\"scale\", StandardScaler())\n",
    "            ]\n",
    ")"
   ]
  },
  {
   "cell_type": "code",
   "execution_count": 14,
   "metadata": {},
   "outputs": [],
   "source": [
    "## Finalmente se combinan los anteriores pipelines con un column transformer, y pasamos por este las variables categoricas y numericas\n",
    "\n",
    "full_processor = ColumnTransformer(\n",
    "    transformers = [\n",
    "        (\"numeric\", numeric_pipeline, num_cols),\n",
    "        (\"categorical\", categorical_pipeline, cat_cols)\n",
    "                  ]\n",
    ")"
   ]
  },
  {
   "cell_type": "markdown",
   "metadata": {},
   "source": [
    "## Entrenamiento del modelo con XGBoost"
   ]
  },
  {
   "cell_type": "code",
   "execution_count": 35,
   "metadata": {},
   "outputs": [],
   "source": [
    "## Preproceso de los datos\n",
    "\n",
    "x_processed = full_processor.fit_transform(x)\n",
    "y_processed = SimpleImputer(strategy = \"most_frequent\").fit_transform(y.values.reshape(-1,1))"
   ]
  },
  {
   "cell_type": "code",
   "execution_count": 36,
   "metadata": {},
   "outputs": [],
   "source": [
    "## Division de los mismos entre training y test\n",
    "\n",
    "x_train, x_test, y_train, y_test = train_test_split(x_processed, y_processed, stratify = y_processed, random_state = 42)"
   ]
  },
  {
   "cell_type": "code",
   "execution_count": 37,
   "metadata": {},
   "outputs": [
    {
     "name": "stdout",
     "output_type": "stream",
     "text": [
      "[0]\tvalidation_0-aucpr:0.58307\n",
      "[1]\tvalidation_0-aucpr:0.57369\n",
      "[2]\tvalidation_0-aucpr:0.59086\n",
      "[3]\tvalidation_0-aucpr:0.63196\n",
      "[4]\tvalidation_0-aucpr:0.64224\n",
      "[5]\tvalidation_0-aucpr:0.64079\n",
      "[6]\tvalidation_0-aucpr:0.63746\n",
      "[7]\tvalidation_0-aucpr:0.65391\n",
      "[8]\tvalidation_0-aucpr:0.64947\n",
      "[9]\tvalidation_0-aucpr:0.63952\n",
      "[10]\tvalidation_0-aucpr:0.62321\n",
      "[11]\tvalidation_0-aucpr:0.63863\n",
      "[12]\tvalidation_0-aucpr:0.64469\n",
      "[13]\tvalidation_0-aucpr:0.63091\n",
      "[14]\tvalidation_0-aucpr:0.63783\n",
      "[15]\tvalidation_0-aucpr:0.63479\n",
      "[16]\tvalidation_0-aucpr:0.63769\n",
      "[17]\tvalidation_0-aucpr:0.61779\n"
     ]
    },
    {
     "name": "stderr",
     "output_type": "stream",
     "text": [
      "C:\\Users\\afinf\\anaconda3\\lib\\site-packages\\xgboost\\sklearn.py:1146: UserWarning: The use of label encoder in XGBClassifier is deprecated and will be removed in a future release. To remove this warning, do the following: 1) Pass option use_label_encoder=False when constructing XGBClassifier object; and 2) Encode your labels (y) as integers starting with 0, i.e. 0, 1, 2, ..., [num_class - 1].\n",
      "  warnings.warn(label_encoder_deprecation_msg, UserWarning)\n",
      "C:\\Users\\afinf\\anaconda3\\lib\\site-packages\\sklearn\\utils\\validation.py:72: DataConversionWarning: A column-vector y was passed when a 1d array was expected. Please change the shape of y to (n_samples, ), for example using ravel().\n",
      "  return f(**kwargs)\n"
     ]
    }
   ],
   "source": [
    "## Ahora corremos el modelo con los parametros que tiene por defecto\n",
    "\n",
    "# Inicializar el classifier (init classifier)\n",
    "xgb_cl = xgb.XGBClassifier(objective = 'binary:logistic', missing = np.nan, seed = 42, subsample = 0.9, colsample_bytree = 0.8)\n",
    "\n",
    "# Ajustar (fit)\n",
    "xgb_cl.fit(x_train, y_train, verbose = True, early_stopping_rounds = 10, eval_metric = 'aucpr', eval_set = [(x_test, y_test)])\n",
    "\n",
    "# Predecir (predict)\n",
    "preds = xgb_cl.predict(x_test)"
   ]
  },
  {
   "cell_type": "code",
   "execution_count": 38,
   "metadata": {},
   "outputs": [
    {
     "name": "stdout",
     "output_type": "stream",
     "text": [
      " \n",
      "METRICAS DE EVALUACION\n",
      " \n",
      "* Accuracy score -- > 0.83\n",
      " \n",
      "* Matriz de confusion\n",
      "[[166  22]\n",
      " [ 20  42]]\n",
      " \n",
      "* Precision, recall, f1 score \n",
      "              precision    recall  f1-score   support\n",
      "\n",
      "           0       0.89      0.88      0.89       188\n",
      "           1       0.66      0.68      0.67        62\n",
      "\n",
      "    accuracy                           0.83       250\n",
      "   macro avg       0.77      0.78      0.78       250\n",
      "weighted avg       0.83      0.83      0.83       250\n",
      "\n"
     ]
    }
   ],
   "source": [
    "# Mostrar el accuracy score para este test\n",
    "print(' ')\n",
    "print('METRICAS DE EVALUACION')\n",
    "print(' ')\n",
    "print('* Accuracy score -- > {:.2f}'.format(accuracy_score(y_test, preds)))\n",
    "print(' ')\n",
    "print('* Matriz de confusion')\n",
    "print(confusion_matrix(y_test, preds))\n",
    "print(' ')\n",
    "print('* Precision, recall, f1 score ')\n",
    "print(classification_report(y_test, preds))"
   ]
  },
  {
   "cell_type": "code",
   "execution_count": 39,
   "metadata": {},
   "outputs": [
    {
     "data": {
      "text/plain": [
       "<sklearn.metrics._plot.confusion_matrix.ConfusionMatrixDisplay at 0x1fbfcfb6760>"
      ]
     },
     "execution_count": 39,
     "metadata": {},
     "output_type": "execute_result"
    },
    {
     "data": {
      "image/png": "[encoded data removed]",
      "text/plain": [
       "<Figure size 432x288 with 2 Axes>"
      ]
     },
     "metadata": {
      "needs_background": "light"
     },
     "output_type": "display_data"
    }
   ],
   "source": [
    "## Grafica de la confusion matrix\n",
    "\n",
    "plot_confusion_matrix(xgb_cl, x_test, y_test, values_format = 'd', display_labels = ['No fraud reported', 'Fraud reported'])"
   ]
  },
  {
   "cell_type": "markdown",
   "metadata": {},
   "source": [
    "### Optimizacion de los parametros del modelo de XGBoost"
   ]
  },
  {
   "cell_type": "code",
   "execution_count": 41,
   "metadata": {},
   "outputs": [],
   "source": [
    "## Se realiza la optimizacion de los hiperparametros mediante la funcion GridSearchCV(), se realizara en 2 rondas\n",
    "\n",
    "## primera ronda ronda\n",
    "# Set nuestros parametros max_depth, learning_rate, gamma, reg_lambda, scale_pos_weight (recomendados de ajustar para dataset con imbalance data) de la siguiente manera\n",
    "param_grid = {\n",
    "    'max_depth': [5, 6, 7],                 ## obtenemos arboles que son de 3, 4 o 5 niveles en su clasificacion\n",
    "    'learning_rate': [0.01, 0.05 ,0.1],     \n",
    "    'gamma': [2, 3, 4],\n",
    "    'reg_lambda': [0.01, 0.1 , 0.5],\n",
    "    'scale_pos_weight': [2, 3, 4]\n",
    "}\n",
    "\n",
    "# Optimizacion mediante GridSearchCV(). Para prevenir over-fitting solo se usa un random subset del 90% y el 80% de las columnas\n",
    "optimal_params = GridSearchCV(\n",
    "    estimator = xgb.XGBClassifier(objective = 'binary:logistic', seed = 42, subsample = 0.9, colsample_bytree = 0.8),\n",
    "    param_grid = param_grid,\n",
    "    scoring = 'roc_auc',\n",
    "    verbose = 0,\n",
    "    n_jobs = 10,\n",
    "    cv = 3\n",
    ")"
   ]
  },
  {
   "cell_type": "code",
   "execution_count": 42,
   "metadata": {},
   "outputs": [
    {
     "name": "stdout",
     "output_type": "stream",
     "text": [
      "[0]\tvalidation_0-aucpr:0.61412\n",
      "[1]\tvalidation_0-aucpr:0.58797\n",
      "[2]\tvalidation_0-aucpr:0.59200\n",
      "[3]\tvalidation_0-aucpr:0.57668\n",
      "[4]\tvalidation_0-aucpr:0.58474\n",
      "[5]\tvalidation_0-aucpr:0.56537\n",
      "[6]\tvalidation_0-aucpr:0.58360\n",
      "[7]\tvalidation_0-aucpr:0.59472\n",
      "[8]\tvalidation_0-aucpr:0.59793\n",
      "[9]\tvalidation_0-aucpr:0.60476\n",
      "[10]\tvalidation_0-aucpr:0.60952\n",
      "{'gamma': 3, 'learning_rate': 0.01, 'max_depth': 6, 'reg_lambda': 0.1, 'scale_pos_weight': 2}\n"
     ]
    },
    {
     "name": "stderr",
     "output_type": "stream",
     "text": [
      "C:\\Users\\afinf\\anaconda3\\lib\\site-packages\\xgboost\\sklearn.py:1146: UserWarning: The use of label encoder in XGBClassifier is deprecated and will be removed in a future release. To remove this warning, do the following: 1) Pass option use_label_encoder=False when constructing XGBClassifier object; and 2) Encode your labels (y) as integers starting with 0, i.e. 0, 1, 2, ..., [num_class - 1].\n",
      "  warnings.warn(label_encoder_deprecation_msg, UserWarning)\n",
      "C:\\Users\\afinf\\anaconda3\\lib\\site-packages\\sklearn\\utils\\validation.py:72: DataConversionWarning: A column-vector y was passed when a 1d array was expected. Please change the shape of y to (n_samples, ), for example using ravel().\n",
      "  return f(**kwargs)\n"
     ]
    }
   ],
   "source": [
    "## Ahora evaluamos los parametros para ver cuales optimizan mejor nuestro modelo\n",
    "\n",
    "# Ajustar (fit)\n",
    "optimal_params.fit(x_train, y_train, verbose = True, early_stopping_rounds = 10, eval_metric = 'aucpr', eval_set = [(x_test, y_test)])\n",
    "\n",
    "print(optimal_params.best_params_)"
   ]
  },
  {
   "cell_type": "code",
   "execution_count": 43,
   "metadata": {},
   "outputs": [],
   "source": [
    "## Se realiza la optimizacion de los hiperparametros mediante la funcion GridSearchCV(), se realizara en 2 rondas\n",
    "\n",
    "## primera ronda ronda\n",
    "# Set nuestros parametros max_depth, learning_rate, gamma, reg_lambda, scale_pos_weight (recomendados de ajustar para dataset con imbalance data) de la siguiente manera\n",
    "param_grid = {\n",
    "    'max_depth': [6],                 ## obtenemos arboles que son de 3, 4 o 5 niveles en su clasificacion\n",
    "    'learning_rate': [0.001, 0.01, 0.05],     \n",
    "    'gamma': [3],\n",
    "    'reg_lambda': [0.1],\n",
    "    'scale_pos_weight': [1, 2, 3]\n",
    "}\n",
    "\n",
    "# Optimizacion mediante GridSearchCV(). Para prevenir over-fitting solo se usa un random subset del 90% y el 80% de las columnas\n",
    "optimal_params = GridSearchCV(\n",
    "    estimator = xgb.XGBClassifier(objective = 'binary:logistic', seed = 42, subsample = 0.9, colsample_bytree = 0.8),\n",
    "    param_grid = param_grid,\n",
    "    scoring = 'roc_auc',\n",
    "    verbose = 0,\n",
    "    n_jobs = 10,\n",
    "    cv = 3\n",
    ")"
   ]
  },
  {
   "cell_type": "code",
   "execution_count": 44,
   "metadata": {},
   "outputs": [
    {
     "name": "stdout",
     "output_type": "stream",
     "text": [
      "[0]\tvalidation_0-auc:0.82048\n",
      "[1]\tvalidation_0-auc:0.82387\n",
      "[2]\tvalidation_0-auc:0.83116\n",
      "[3]\tvalidation_0-auc:0.82177\n",
      "[4]\tvalidation_0-auc:0.82683\n",
      "[5]\tvalidation_0-auc:0.82305\n",
      "[6]\tvalidation_0-auc:0.84313\n",
      "[7]\tvalidation_0-auc:0.84240\n",
      "[8]\tvalidation_0-auc:0.83820\n",
      "[9]\tvalidation_0-auc:0.83961\n",
      "[10]\tvalidation_0-auc:0.84098\n",
      "[11]\tvalidation_0-auc:0.84128\n",
      "[12]\tvalidation_0-auc:0.84279\n",
      "[13]\tvalidation_0-auc:0.83391\n",
      "[14]\tvalidation_0-auc:0.83820\n",
      "[15]\tvalidation_0-auc:0.83811\n",
      "{'gamma': 3, 'learning_rate': 0.01, 'max_depth': 6, 'reg_lambda': 0.1, 'scale_pos_weight': 2}\n"
     ]
    },
    {
     "name": "stderr",
     "output_type": "stream",
     "text": [
      "C:\\Users\\afinf\\anaconda3\\lib\\site-packages\\xgboost\\sklearn.py:1146: UserWarning: The use of label encoder in XGBClassifier is deprecated and will be removed in a future release. To remove this warning, do the following: 1) Pass option use_label_encoder=False when constructing XGBClassifier object; and 2) Encode your labels (y) as integers starting with 0, i.e. 0, 1, 2, ..., [num_class - 1].\n",
      "  warnings.warn(label_encoder_deprecation_msg, UserWarning)\n",
      "C:\\Users\\afinf\\anaconda3\\lib\\site-packages\\sklearn\\utils\\validation.py:72: DataConversionWarning: A column-vector y was passed when a 1d array was expected. Please change the shape of y to (n_samples, ), for example using ravel().\n",
      "  return f(**kwargs)\n"
     ]
    }
   ],
   "source": [
    "## Ahora evaluamos los parametros para ver cuales optimizan mejor nuestro modelo\n",
    "\n",
    "# Ajustar (fit)\n",
    "optimal_params.fit(x_train, y_train, verbose = True, early_stopping_rounds = 10, eval_metric = 'auc', eval_set = [(x_test, y_test)])\n",
    "\n",
    "print(optimal_params.best_params_)"
   ]
  },
  {
   "cell_type": "markdown",
   "metadata": {},
   "source": [
    "## Construccion del modelo utilizando los mejores parametros"
   ]
  },
  {
   "cell_type": "code",
   "execution_count": 45,
   "metadata": {},
   "outputs": [
    {
     "name": "stdout",
     "output_type": "stream",
     "text": [
      "[0]\tvalidation_0-aucpr:0.61412\n",
      "[1]\tvalidation_0-aucpr:0.58797\n",
      "[2]\tvalidation_0-aucpr:0.59200\n",
      "[3]\tvalidation_0-aucpr:0.57668\n",
      "[4]\tvalidation_0-aucpr:0.58474\n",
      "[5]\tvalidation_0-aucpr:0.56537\n",
      "[6]\tvalidation_0-aucpr:0.58360\n",
      "[7]\tvalidation_0-aucpr:0.59472\n",
      "[8]\tvalidation_0-aucpr:0.59793\n",
      "[9]\tvalidation_0-aucpr:0.60476\n",
      "[10]\tvalidation_0-aucpr:0.60952\n"
     ]
    }
   ],
   "source": [
    "## Ahora corremos el modelo con los parametros que se acaban de optimizar\n",
    "\n",
    "# Inicializar el classifier (init classifier)\n",
    "xgb_cl_opt = xgb.XGBClassifier(objective = 'binary:logistic', missing = np.nan, seed = 42, gamma = 3 , learning_rate = 0.01, max_depth = 6, reg_lambda = 0.1, scale_pos_weight = 2, subsample = 0.9, colsample_bytree = 0.8)\n",
    "\n",
    "# Ajustar (fit)\n",
    "xgb_cl_opt.fit(x_train, y_train, verbose = True, early_stopping_rounds = 10, eval_metric = 'aucpr', eval_set = [(x_test, y_test)])\n",
    "\n",
    "# Predecir (predict)\n",
    "preds = xgb_cl_opt.predict(x_test)"
   ]
  },
  {
   "cell_type": "code",
   "execution_count": 46,
   "metadata": {},
   "outputs": [
    {
     "name": "stdout",
     "output_type": "stream",
     "text": [
      " \n",
      "METRICAS DE EVALUACION\n",
      " \n",
      "* Accuracy score -- > 0.80\n",
      " \n",
      "* Matriz de confusion\n",
      "[[152  36]\n",
      " [ 14  48]]\n",
      " \n",
      "* Precision, recall, f1 score \n",
      "              precision    recall  f1-score   support\n",
      "\n",
      "           0       0.92      0.81      0.86       188\n",
      "           1       0.57      0.77      0.66        62\n",
      "\n",
      "    accuracy                           0.80       250\n",
      "   macro avg       0.74      0.79      0.76       250\n",
      "weighted avg       0.83      0.80      0.81       250\n",
      "\n"
     ]
    }
   ],
   "source": [
    "# Mostrar el accuracy score para este test\n",
    "print(' ')\n",
    "print('METRICAS DE EVALUACION')\n",
    "print(' ')\n",
    "print('* Accuracy score -- > {:.2f}'.format(accuracy_score(y_test, preds)))\n",
    "print(' ')\n",
    "print('* Matriz de confusion')\n",
    "print(confusion_matrix(y_test, preds))\n",
    "print(' ')\n",
    "print('* Precision, recall, f1 score ')\n",
    "print(classification_report(y_test, preds))"
   ]
  },
  {
   "cell_type": "code",
   "execution_count": 47,
   "metadata": {},
   "outputs": [
    {
     "data": {
      "text/plain": [
       "<sklearn.metrics._plot.confusion_matrix.ConfusionMatrixDisplay at 0x1fbfd0ce340>"
      ]
     },
     "execution_count": 47,
     "metadata": {},
     "output_type": "execute_result"
    },
    {
     "data": {
      "image/png": "[encoded data removed]",
      "text/plain": [
       "<Figure size 432x288 with 2 Axes>"
      ]
     },
     "metadata": {
      "needs_background": "light"
     },
     "output_type": "display_data"
    }
   ],
   "source": [
    "## Grafica de la confusion matrix\n",
    "\n",
    "plot_confusion_matrix(xgb_cl_opt, x_test, y_test, values_format = 'd', display_labels = ['No fraud reported', 'Fraud reported'])"
   ]
  },
  {
   "cell_type": "markdown",
   "metadata": {},
   "source": [
    "Como se observa mediante la confusion matrix, al optimizar los parametros de XGBoost para nuestro modelo por medio de GridSearchCV; se observa una mejoría significativa en la clasificación que realiza nuestro modelo en los casos en donde se cometió fraude, es decir donde la label es 1, pasando de tener un recall de 68% con los parametros de default a un recall de 77% para la clasificación de los casos fraudulentos. Esto es bastante positivo, pues a pesar de que ahora el modelo comete más errores en la clasificación de casos donde no se cometió fraude, incrementó sus true positives para las predicciones que hizo del label.\n",
    "\n",
    "Para obtener dicha mejoría, se utilizaron los parámetros de 'gamma': 3, 'learning_rate': 0.01, 'max_depth': 6, 'reg_lambda': 0.1, 'scale_pos_weight': 2, los cuales fueron los valores intermedios que introdujimos en el GridSearch, indicandonos, de este modo que los valores óptimos se encuentran muy cercanos a estos, y que no varían por encima ni por debajo de los mismos."
   ]
  }
 ],
 "metadata": {
  "kernelspec": {
   "display_name": "Python 3",
   "language": "python",
   "name": "python3"
  },
  "language_info": {
   "codemirror_mode": {
    "name": "ipython",
    "version": 3
   },
   "file_extension": ".py",
   "mimetype": "text/x-python",
   "name": "python",
   "nbconvert_exporter": "python",
   "pygments_lexer": "ipython3",
   "version": "3.8.5"
  }
 },
 "nbformat": 4,
 "nbformat_minor": 4
}
