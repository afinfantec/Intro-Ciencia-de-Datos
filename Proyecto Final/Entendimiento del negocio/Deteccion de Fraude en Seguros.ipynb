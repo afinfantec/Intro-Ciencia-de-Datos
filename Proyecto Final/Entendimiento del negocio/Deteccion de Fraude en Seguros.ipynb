{
 "cells": [
  {
   "cell_type": "markdown",
   "metadata": {},
   "source": [
    "# Detección de Fraude con herramientas de ciencia de datos"
   ]
  },
  {
   "cell_type": "markdown",
   "metadata": {},
   "source": [
    "## Objetivo del proyecto"
   ]
  },
  {
   "cell_type": "markdown",
   "metadata": {},
   "source": [
    "Se busca mediante este proyecto construir y entrenar un un modelo que sea capaz de detectar la existencia de fraude en sector asegurado al presentarle un set de datos que no haya visto anteriormente, todo esto mediante las herramientas que brinda la ciencias de datos."
   ]
  },
  {
   "cell_type": "markdown",
   "metadata": {},
   "source": [
    "### Fraude en las compañías de seguros"
   ]
  },
  {
   "cell_type": "markdown",
   "metadata": {},
   "source": [
    "#### Cual es la finalidad de una compañia de seguros"
   ]
  },
  {
   "cell_type": "markdown",
   "metadata": {},
   "source": [
    "Las compañías de seguros, son agentes económicos cuya finalidad es la cobertura de riesgo de sus clientes, mediante la expedición de una serie de contratos o pólizas. Dado que en este tipo de contratos existen asimetrias en el riesgo (que se generan cuando el asegurado transfiere el riesgo a la aseguradora); las compañías de seguros cobran una cantidad de dinero denominado prima de la póliza. De este modo, las aseguradoras reducen la incertidumbre y el riesgo de sus clientes sobre un evento que vaya en contra del detrimento del patrimonio de los mismos."
   ]
  },
  {
   "cell_type": "markdown",
   "metadata": {},
   "source": [
    "#### Como se define el fraude y como se da en el sector seguros"
   ]
  },
  {
   "cell_type": "markdown",
   "metadata": {},
   "source": [
    "El fraude se define como toda actividad ilegal mediante la cual una o varias personas intentan obtener beneficios económicos, para ellos mismos o para un tercero, mediante el engaño, dejando a su contraparte perjudicada. Esta conducta se da principalmente debido a las asimetrías que existen en la información, como por ejemplo en la veracidad de los sucesos y la dificultad para una de las partes la investigación y/o comprobación de los hechos. Saddler define el fraude como \"todo acto intencional perpetrado por un ser humano, utilizando el engaño con el fin de obtener un beneficio personal\" (Saddler, 2013). [1](https://inif.com.co/fraude/) \n",
    "\n",
    "La anterior definición se puede limitar al sector seguros, definiendose entonces como todo acto que busque beneficiarse economicamente de un contrato de seguros mediante el engaño a las compañías aseguradoras. Dichos actos se dan cuando el asegurado, aprovechandose de la asimetria de la información y  de la transferencia del riesgo a la compañías aseguradoras, planea/fabrica y ejecuta un siniestro o exagera las consecuencias del mismo, para que mediante esto, pueda obtener la indemnización que se pactó en la póliza de seguro. De igual manera, se considera que se está incurriendo en este acto cuando se realizan falsas declaraciones del riesgo al momento de firmar el contrato de seguros, de este modo ocultando información valiosa y llevando a la compañía aseguradora a subvalorar el riesgo que está asumiendo.\n",
    "\n",
    "Se presenta en el siguiente vídeo, un ejemplo de fraude en el sector seguros, donde no sólo se está inflando el monto del bien sino que también se intenta fabricar el siniestro del mismo.\n",
    "\n",
    "[Fraude Seguros- Los Simpson](https://www.youtube.com/watch?v=QC_WDTd-ymU)"
   ]
  },
  {
   "cell_type": "markdown",
   "metadata": {},
   "source": [
    "#### Estimaciones de Fraude en el sector seguros en Colombia"
   ]
  },
  {
   "cell_type": "markdown",
   "metadata": {},
   "source": [
    "Colombia se encuentra dentro de los países de latinoamérica que más se ven afectado por este fenómeno, llegando a tener cifras alarmantes en donde 7 de cada 10 siniestros tienen algún indicio de fraude, pero en donde solamente se llega a comprobar este acto ilicito en el 7% de los casos sospechosos. \n",
    "\n",
    "Existen diferentes estimaciones de este flagelo en la socidad colombiana para los diferentes ramos, Fasecolda por su parte estima que para el ramo SOAT (Seguro Obligatorio de Accidentes de Tránsito) el costo de este delito alcanza más de 100.000 millones de pesos, por otro lado, la fiscalía puso en descubierto en abril de 2019 una red estafadora en el ramo Salud, que alcanzó a realizar estafas por 90.000 millones de pesos, el INIF (Instituto Nacional de Investigación y Prevención del Fraude) por su parte logró advertir a las aseguradoras en el 2017 que el 8% de los casos investigados fueron en efecto fraude ayudandoles a conseguir a las aseguradoras de este modo un ahorro de 11.614 millones al no tener que realizar pagos ilegitimos.\n",
    "\n",
    "La anterior información fue consultada de las siguientes fuentes\n",
    "\n",
    "[El sector asegurador frende al fraude](https://revista.fasecolda.com/index.php/revfasecolda/article/view/430/407)\n",
    "\n",
    "[El tiempo - 7 de cada 10 reclamos tienen indicio de fraude](https://www.eltiempo.com/economia/sectores/el-70-de-los-reclamos-a-las-aseguradoras-tienen-indicio-de-fraude-406712)\n",
    "\n",
    "[Fasecolda - Cuantificación del fraude en SOAT](https://revista.fasecolda.com/index.php/revfasecolda/article/view/351/346)"
   ]
  },
  {
   "cell_type": "markdown",
   "metadata": {},
   "source": [
    "#### ¿Qué utilidades tiene este proyecto?"
   ]
  },
  {
   "cell_type": "markdown",
   "metadata": {},
   "source": [
    "Se espera que este proyecto sea de ayuda para identificar estas reclamaciones fraudulentas con anterioridad a los pagos de sus correspondientes siniestros y de este modo contribuir a la disminución de pérdidas para la compañías de seguros en reclamos ilegitimos, incrementando en últimas las utilidades de la compañía, del sector, de la economía y con suerte la disminución de las primas que cobran a sus asegurados, dado los menores gastos de operación.\n",
    "\n",
    "Por otra parte se estima que las aseguradoras desisten de investigar situaciones de posible fraude, debido a que la investigación de las mismas tendría un costo más alto que lo que tendría el pago del siniestro. Por lo anterior, se espera de este proyecto  poner a la disposición de las entidades aseguradoras una herramienta que les sirva para identificar reclamaciones que tengan altas probabilidades de haber sido fraudulentas para que de este modo las aseguradoras puedan enfoca sus recursos de investigación y denuncia de fraude en aquellas reclamaciones que a pesar de sus cuantias tienen altos indicios de fraude, para de este modo evitar que se siga normalizando este tipo de actos en el sector."
   ]
  },
  {
   "cell_type": "markdown",
   "metadata": {},
   "source": [
    "#### ¿Cómo definiría el éxito del proyecto?"
   ]
  },
  {
   "cell_type": "markdown",
   "metadata": {},
   "source": [
    "Se evaluará el éxito de este proyecto si, al presentarle un set de datos de validación al modelo; este es capaz de determinar si una reclamación es fraudulenta o no, realizando su comparación con las etiquetas que se le dieron a dichos casos de validación.\n",
    "\n",
    "Esto contribuirá a discriminar las reclamaciones fraudulentas de las que no lo son, con el fin de que sea posible enfocar recursos en aquellas que el modelo detecte como fraudulentas, y así poner en disposición esta información a las autoridades competentes para que se impongan las sanciones necesarias.\n",
    "\n",
    "Finalmente se espera, que se aumente la satisfacción del cliente, mediante la disminución en el costo de las primas y la disminución de la malas experiencias que puede generar una investigación por fraude cuando la reclamación es legítima."
   ]
  },
  {
   "cell_type": "markdown",
   "metadata": {},
   "source": [
    "#### ¿Tiene acceso a los datos para conseguir este proyecto?"
   ]
  },
  {
   "cell_type": "markdown",
   "metadata": {},
   "source": [
    "Lastimósamente los datos para llevar a cabo este proyecto en el sector asegurador colombiano son de uso exclusivo de las compañías de seguros, Fasecolda e INIF. Esto porque, en caso de que se hiciera pública la información del fraude cometido en las diferentes aseguradoras; esto podría atraer de forma masiva estafadores llevándolas a atravesar una oleada de personas que intenten aprovecharse de estos acto ilegal.\n",
    "\n",
    "Dada la confidencialidad de los datos, es imposible realizar una investigación de este fenómeno en el ámbito colombiano. Por lo anterior se trabajará con base a información de la misma categoria/problematica que ha sido previamente difundida por una o varias aseguradoras en Estados Unidos. \n",
    "\n",
    "Por lo anterior para avanzar en el proyecto, se espera trabajar sobre este set de datos, y dejar la metodología de detección lista para su implementación cuando esté disponible un conjunto de datos del sector colombiano."
   ]
  },
  {
   "cell_type": "markdown",
   "metadata": {},
   "source": [
    "#### ¿Vale la pena el proyecto desde el punto de vista del costo/beneficio?"
   ]
  },
  {
   "cell_type": "markdown",
   "metadata": {},
   "source": [
    "Como se mencionó anteriormente, el sector seguros en Colombia se ve fuertemente flagelado por estos engaños conducientes a generar ilegalmente un beneficio económico proveniente de un contrato de seguros. Según las estimaciones por diferentes entidades se estima que se obtendrían ahorros por parte de las aseguradoras en pagos ilegitimos por valores que oscilan entre 11.000 y 100.000 millones de pesos."
   ]
  },
  {
   "cell_type": "code",
   "execution_count": null,
   "metadata": {},
   "outputs": [],
   "source": []
  }
 ],
 "metadata": {
  "kernelspec": {
   "display_name": "Python 3",
   "language": "python",
   "name": "python3"
  },
  "language_info": {
   "codemirror_mode": {
    "name": "ipython",
    "version": 3
   },
   "file_extension": ".py",
   "mimetype": "text/x-python",
   "name": "python",
   "nbconvert_exporter": "python",
   "pygments_lexer": "ipython3",
   "version": "3.8.5"
  }
 },
 "nbformat": 4,
 "nbformat_minor": 4
}
